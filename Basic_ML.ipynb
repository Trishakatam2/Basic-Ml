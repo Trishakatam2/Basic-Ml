{
  "nbformat": 4,
  "nbformat_minor": 0,
  "metadata": {
    "colab": {
      "name": "Basic_ML.ipynb",
      "provenance": [],
      "authorship_tag": "ABX9TyOqG8AeWBe1KAKjPKmhhOf6",
      "include_colab_link": true
    },
    "kernelspec": {
      "name": "python3",
      "display_name": "Python 3"
    },
    "language_info": {
      "name": "python"
    }
  },
  "cells": [
    {
      "cell_type": "markdown",
      "metadata": {
        "id": "view-in-github",
        "colab_type": "text"
      },
      "source": [
        "<a href=\"https://colab.research.google.com/github/Trishakatam2/Basic-Ml/blob/main/Basic_ML.ipynb\" target=\"_parent\"><img src=\"https://colab.research.google.com/assets/colab-badge.svg\" alt=\"Open In Colab\"/></a>"
      ]
    },
    {
      "cell_type": "code",
      "metadata": {
        "id": "-1OjqItScjQg"
      },
      "source": [
        ""
      ],
      "execution_count": null,
      "outputs": []
    },
    {
      "cell_type": "markdown",
      "metadata": {
        "id": "6Lsr-rnPdsJY"
      },
      "source": [
        ""
      ]
    },
    {
      "cell_type": "markdown",
      "metadata": {
        "id": "7CYkPIgudvLV"
      },
      "source": [
        "***Finding Factorial of a given number using recursion***\n"
      ]
    },
    {
      "cell_type": "code",
      "metadata": {
        "colab": {
          "base_uri": "https://localhost:8080/"
        },
        "id": "Uk4ApcBceEb-",
        "outputId": "1554ee37-9052-4324-ba38-2ac1387775d1"
      },
      "source": [
        "def factorial(n):\n",
        "  if n==1:\n",
        "    return 1\n",
        "  else:\n",
        "    return(n*factorial(n-1))\n",
        "n=int(input())\n",
        "print('Factorial : ',factorial(n))"
      ],
      "execution_count": 1,
      "outputs": [
        {
          "output_type": "stream",
          "text": [
            "5\n",
            "Factorial :  120\n"
          ],
          "name": "stdout"
        }
      ]
    },
    {
      "cell_type": "markdown",
      "metadata": {
        "id": "bORb-VGsfUte"
      },
      "source": [
        "***Calculating GCD of two numbers***\n"
      ]
    },
    {
      "cell_type": "code",
      "metadata": {
        "colab": {
          "base_uri": "https://localhost:8080/"
        },
        "id": "w8jPwyMnhMI0",
        "outputId": "653cb72d-27b0-4689-a51f-2dc949fec0f4"
      },
      "source": [
        "def Gcd(a,b):\n",
        "  if b==0:\n",
        "    return a\n",
        "  else:\n",
        "    return Gcd(b,a%b)\n",
        "a=int(input())\n",
        "b=int(input())\n",
        "print('GCD of two numbers : ',Gcd(a,b))"
      ],
      "execution_count": 3,
      "outputs": [
        {
          "output_type": "stream",
          "text": [
            "20\n",
            "4\n",
            "GCD of two numbers :  4\n"
          ],
          "name": "stdout"
        }
      ]
    },
    {
      "cell_type": "markdown",
      "metadata": {
        "id": "_8d4IZOLh4E3"
      },
      "source": [
        "***Finding maximum and minimum elements in a list***\n"
      ]
    },
    {
      "cell_type": "code",
      "metadata": {
        "colab": {
          "base_uri": "https://localhost:8080/"
        },
        "id": "JKovO27mibiC",
        "outputId": "e8703782-173d-47c9-ae9c-5b2e230de9c5"
      },
      "source": [
        "my_list=input().split()\n",
        "my_list.sort()\n",
        "print('Maximum: ',my_list[-1])\n",
        "print('Minimum : ',my_list[0])"
      ],
      "execution_count": 5,
      "outputs": [
        {
          "output_type": "stream",
          "text": [
            "1 2 3 4 5 6 \n",
            "Maximum:  6\n",
            "Minimum :  1\n"
          ],
          "name": "stdout"
        }
      ]
    }
  ]
}